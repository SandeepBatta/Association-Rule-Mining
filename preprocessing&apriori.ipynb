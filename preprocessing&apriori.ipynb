{
 "cells": [
  {
   "cell_type": "markdown",
   "metadata": {},
   "source": [
    "# Import Libraries"
   ]
  },
  {
   "cell_type": "code",
   "execution_count": 1,
   "id": "78965654",
   "metadata": {},
   "outputs": [],
   "source": [
    "import pandas as pd\n",
    "from itertools import combinations"
   ]
  },
  {
   "cell_type": "markdown",
   "metadata": {},
   "source": [
    "# Load the data"
   ]
  },
  {
   "cell_type": "code",
   "execution_count": 2,
   "id": "f1aafcc4",
   "metadata": {},
   "outputs": [],
   "source": [
    "base = \"./data/\"\n",
    "\n",
    "order_products_train_df = pd.read_csv(base + \"order_products__train.csv\")\n",
    "order_products_prior_df = pd.read_csv(base + \"order_products__prior.csv\")\n",
    "products_df = pd.read_csv(base + \"products.csv\")"
   ]
  },
  {
   "cell_type": "markdown",
   "metadata": {},
   "source": [
    "#### Explore the data"
   ]
  },
  {
   "cell_type": "code",
   "execution_count": 3,
   "id": "8b6b1b84",
   "metadata": {},
   "outputs": [
    {
     "data": {
      "text/html": [
       "<div>\n",
       "<style scoped>\n",
       "    .dataframe tbody tr th:only-of-type {\n",
       "        vertical-align: middle;\n",
       "    }\n",
       "\n",
       "    .dataframe tbody tr th {\n",
       "        vertical-align: top;\n",
       "    }\n",
       "\n",
       "    .dataframe thead th {\n",
       "        text-align: right;\n",
       "    }\n",
       "</style>\n",
       "<table border=\"1\" class=\"dataframe\">\n",
       "  <thead>\n",
       "    <tr style=\"text-align: right;\">\n",
       "      <th></th>\n",
       "      <th>order_id</th>\n",
       "      <th>product_id</th>\n",
       "    </tr>\n",
       "  </thead>\n",
       "  <tbody>\n",
       "    <tr>\n",
       "      <th>0</th>\n",
       "      <td>1</td>\n",
       "      <td>49302</td>\n",
       "    </tr>\n",
       "    <tr>\n",
       "      <th>1</th>\n",
       "      <td>1</td>\n",
       "      <td>11109</td>\n",
       "    </tr>\n",
       "    <tr>\n",
       "      <th>2</th>\n",
       "      <td>1</td>\n",
       "      <td>10246</td>\n",
       "    </tr>\n",
       "    <tr>\n",
       "      <th>3</th>\n",
       "      <td>1</td>\n",
       "      <td>49683</td>\n",
       "    </tr>\n",
       "    <tr>\n",
       "      <th>4</th>\n",
       "      <td>1</td>\n",
       "      <td>43633</td>\n",
       "    </tr>\n",
       "  </tbody>\n",
       "</table>\n",
       "</div>"
      ],
      "text/plain": [
       "   order_id  product_id\n",
       "0         1       49302\n",
       "1         1       11109\n",
       "2         1       10246\n",
       "3         1       49683\n",
       "4         1       43633"
      ]
     },
     "execution_count": 3,
     "metadata": {},
     "output_type": "execute_result"
    }
   ],
   "source": [
    "order_products_train_df = order_products_train_df[[\"order_id\", \"product_id\"]]\n",
    "order_products_train_df.head()"
   ]
  },
  {
   "cell_type": "code",
   "execution_count": 4,
   "id": "3d24f3de",
   "metadata": {},
   "outputs": [
    {
     "data": {
      "text/html": [
       "<div>\n",
       "<style scoped>\n",
       "    .dataframe tbody tr th:only-of-type {\n",
       "        vertical-align: middle;\n",
       "    }\n",
       "\n",
       "    .dataframe tbody tr th {\n",
       "        vertical-align: top;\n",
       "    }\n",
       "\n",
       "    .dataframe thead th {\n",
       "        text-align: right;\n",
       "    }\n",
       "</style>\n",
       "<table border=\"1\" class=\"dataframe\">\n",
       "  <thead>\n",
       "    <tr style=\"text-align: right;\">\n",
       "      <th></th>\n",
       "      <th>order_id</th>\n",
       "      <th>product_id</th>\n",
       "    </tr>\n",
       "  </thead>\n",
       "  <tbody>\n",
       "    <tr>\n",
       "      <th>0</th>\n",
       "      <td>2</td>\n",
       "      <td>33120</td>\n",
       "    </tr>\n",
       "    <tr>\n",
       "      <th>1</th>\n",
       "      <td>2</td>\n",
       "      <td>28985</td>\n",
       "    </tr>\n",
       "    <tr>\n",
       "      <th>2</th>\n",
       "      <td>2</td>\n",
       "      <td>9327</td>\n",
       "    </tr>\n",
       "    <tr>\n",
       "      <th>3</th>\n",
       "      <td>2</td>\n",
       "      <td>45918</td>\n",
       "    </tr>\n",
       "    <tr>\n",
       "      <th>4</th>\n",
       "      <td>2</td>\n",
       "      <td>30035</td>\n",
       "    </tr>\n",
       "  </tbody>\n",
       "</table>\n",
       "</div>"
      ],
      "text/plain": [
       "   order_id  product_id\n",
       "0         2       33120\n",
       "1         2       28985\n",
       "2         2        9327\n",
       "3         2       45918\n",
       "4         2       30035"
      ]
     },
     "execution_count": 4,
     "metadata": {},
     "output_type": "execute_result"
    }
   ],
   "source": [
    "order_products_prior_df = order_products_prior_df[[\"order_id\", \"product_id\"]]\n",
    "order_products_prior_df.head()"
   ]
  },
  {
   "cell_type": "markdown",
   "metadata": {},
   "source": [
    "# Preprocess the data"
   ]
  },
  {
   "cell_type": "code",
   "execution_count": 5,
   "id": "b8ba0cb7",
   "metadata": {},
   "outputs": [
    {
     "data": {
      "text/html": [
       "<div>\n",
       "<style scoped>\n",
       "    .dataframe tbody tr th:only-of-type {\n",
       "        vertical-align: middle;\n",
       "    }\n",
       "\n",
       "    .dataframe tbody tr th {\n",
       "        vertical-align: top;\n",
       "    }\n",
       "\n",
       "    .dataframe thead th {\n",
       "        text-align: right;\n",
       "    }\n",
       "</style>\n",
       "<table border=\"1\" class=\"dataframe\">\n",
       "  <thead>\n",
       "    <tr style=\"text-align: right;\">\n",
       "      <th></th>\n",
       "      <th>order_id</th>\n",
       "      <th>product_id</th>\n",
       "    </tr>\n",
       "  </thead>\n",
       "  <tbody>\n",
       "    <tr>\n",
       "      <th>0</th>\n",
       "      <td>1</td>\n",
       "      <td>49302</td>\n",
       "    </tr>\n",
       "    <tr>\n",
       "      <th>1</th>\n",
       "      <td>1</td>\n",
       "      <td>11109</td>\n",
       "    </tr>\n",
       "    <tr>\n",
       "      <th>2</th>\n",
       "      <td>1</td>\n",
       "      <td>10246</td>\n",
       "    </tr>\n",
       "    <tr>\n",
       "      <th>3</th>\n",
       "      <td>1</td>\n",
       "      <td>49683</td>\n",
       "    </tr>\n",
       "    <tr>\n",
       "      <th>4</th>\n",
       "      <td>1</td>\n",
       "      <td>43633</td>\n",
       "    </tr>\n",
       "    <tr>\n",
       "      <th>...</th>\n",
       "      <td>...</td>\n",
       "      <td>...</td>\n",
       "    </tr>\n",
       "    <tr>\n",
       "      <th>98486</th>\n",
       "      <td>10000</td>\n",
       "      <td>10017</td>\n",
       "    </tr>\n",
       "    <tr>\n",
       "      <th>98487</th>\n",
       "      <td>10000</td>\n",
       "      <td>10369</td>\n",
       "    </tr>\n",
       "    <tr>\n",
       "      <th>98488</th>\n",
       "      <td>10000</td>\n",
       "      <td>6587</td>\n",
       "    </tr>\n",
       "    <tr>\n",
       "      <th>98489</th>\n",
       "      <td>10000</td>\n",
       "      <td>35108</td>\n",
       "    </tr>\n",
       "    <tr>\n",
       "      <th>98490</th>\n",
       "      <td>10000</td>\n",
       "      <td>40396</td>\n",
       "    </tr>\n",
       "  </tbody>\n",
       "</table>\n",
       "<p>98491 rows × 2 columns</p>\n",
       "</div>"
      ],
      "text/plain": [
       "       order_id  product_id\n",
       "0             1       49302\n",
       "1             1       11109\n",
       "2             1       10246\n",
       "3             1       49683\n",
       "4             1       43633\n",
       "...         ...         ...\n",
       "98486     10000       10017\n",
       "98487     10000       10369\n",
       "98488     10000        6587\n",
       "98489     10000       35108\n",
       "98490     10000       40396\n",
       "\n",
       "[98491 rows x 2 columns]"
      ]
     },
     "execution_count": 5,
     "metadata": {},
     "output_type": "execute_result"
    }
   ],
   "source": [
    "order_products_df = pd.concat([order_products_train_df, order_products_prior_df])\n",
    "order_products_df = order_products_df[order_products_df[\"order_id\"] <= 10000]\n",
    "order_products_df.sort_values(\"order_id\", inplace=True, ignore_index=True)\n",
    "order_products_df"
   ]
  },
  {
   "cell_type": "code",
   "execution_count": 6,
   "metadata": {},
   "outputs": [
    {
     "data": {
      "text/html": [
       "<div>\n",
       "<style scoped>\n",
       "    .dataframe tbody tr th:only-of-type {\n",
       "        vertical-align: middle;\n",
       "    }\n",
       "\n",
       "    .dataframe tbody tr th {\n",
       "        vertical-align: top;\n",
       "    }\n",
       "\n",
       "    .dataframe thead th {\n",
       "        text-align: right;\n",
       "    }\n",
       "</style>\n",
       "<table border=\"1\" class=\"dataframe\">\n",
       "  <thead>\n",
       "    <tr style=\"text-align: right;\">\n",
       "      <th></th>\n",
       "      <th>product_id</th>\n",
       "      <th>no_of_transactions</th>\n",
       "    </tr>\n",
       "  </thead>\n",
       "  <tbody>\n",
       "    <tr>\n",
       "      <th>0</th>\n",
       "      <td>24852</td>\n",
       "      <td>1462</td>\n",
       "    </tr>\n",
       "    <tr>\n",
       "      <th>1</th>\n",
       "      <td>13176</td>\n",
       "      <td>1174</td>\n",
       "    </tr>\n",
       "    <tr>\n",
       "      <th>2</th>\n",
       "      <td>21137</td>\n",
       "      <td>789</td>\n",
       "    </tr>\n",
       "    <tr>\n",
       "      <th>3</th>\n",
       "      <td>21903</td>\n",
       "      <td>717</td>\n",
       "    </tr>\n",
       "    <tr>\n",
       "      <th>4</th>\n",
       "      <td>47209</td>\n",
       "      <td>637</td>\n",
       "    </tr>\n",
       "    <tr>\n",
       "      <th>...</th>\n",
       "      <td>...</td>\n",
       "      <td>...</td>\n",
       "    </tr>\n",
       "    <tr>\n",
       "      <th>16250</th>\n",
       "      <td>28973</td>\n",
       "      <td>1</td>\n",
       "    </tr>\n",
       "    <tr>\n",
       "      <th>16251</th>\n",
       "      <td>28969</td>\n",
       "      <td>1</td>\n",
       "    </tr>\n",
       "    <tr>\n",
       "      <th>16252</th>\n",
       "      <td>13751</td>\n",
       "      <td>1</td>\n",
       "    </tr>\n",
       "    <tr>\n",
       "      <th>16253</th>\n",
       "      <td>28961</td>\n",
       "      <td>1</td>\n",
       "    </tr>\n",
       "    <tr>\n",
       "      <th>16254</th>\n",
       "      <td>49686</td>\n",
       "      <td>1</td>\n",
       "    </tr>\n",
       "  </tbody>\n",
       "</table>\n",
       "<p>16255 rows × 2 columns</p>\n",
       "</div>"
      ],
      "text/plain": [
       "       product_id  no_of_transactions\n",
       "0           24852                1462\n",
       "1           13176                1174\n",
       "2           21137                 789\n",
       "3           21903                 717\n",
       "4           47209                 637\n",
       "...           ...                 ...\n",
       "16250       28973                   1\n",
       "16251       28969                   1\n",
       "16252       13751                   1\n",
       "16253       28961                   1\n",
       "16254       49686                   1\n",
       "\n",
       "[16255 rows x 2 columns]"
      ]
     },
     "execution_count": 6,
     "metadata": {},
     "output_type": "execute_result"
    }
   ],
   "source": [
    "products_in_transactions = order_products_df.groupby(\"product_id\").count().rename(columns={\"order_id\": \"no_of_transactions\"}).reset_index()\n",
    "products_in_transactions.sort_values(\"no_of_transactions\", ascending=False).reset_index(drop=True)"
   ]
  },
  {
   "cell_type": "markdown",
   "metadata": {},
   "source": [
    "#### merge orders and products"
   ]
  },
  {
   "cell_type": "code",
   "execution_count": 7,
   "metadata": {},
   "outputs": [],
   "source": [
    "order_products_df = order_products_df.merge(products_df[['product_id', 'product_name']], on='product_id')\n",
    "order_products_df.sort_values(\"order_id\", inplace=True, ignore_index=True)"
   ]
  },
  {
   "cell_type": "code",
   "execution_count": 8,
   "metadata": {},
   "outputs": [
    {
     "data": {
      "text/html": [
       "<div>\n",
       "<style scoped>\n",
       "    .dataframe tbody tr th:only-of-type {\n",
       "        vertical-align: middle;\n",
       "    }\n",
       "\n",
       "    .dataframe tbody tr th {\n",
       "        vertical-align: top;\n",
       "    }\n",
       "\n",
       "    .dataframe thead th {\n",
       "        text-align: right;\n",
       "    }\n",
       "</style>\n",
       "<table border=\"1\" class=\"dataframe\">\n",
       "  <thead>\n",
       "    <tr style=\"text-align: right;\">\n",
       "      <th></th>\n",
       "      <th>order_id</th>\n",
       "      <th>product_id</th>\n",
       "      <th>product_name</th>\n",
       "    </tr>\n",
       "  </thead>\n",
       "  <tbody>\n",
       "    <tr>\n",
       "      <th>0</th>\n",
       "      <td>1</td>\n",
       "      <td>49302</td>\n",
       "      <td>Bulgarian Yogurt</td>\n",
       "    </tr>\n",
       "    <tr>\n",
       "      <th>1</th>\n",
       "      <td>1</td>\n",
       "      <td>47209</td>\n",
       "      <td>Organic Hass Avocado</td>\n",
       "    </tr>\n",
       "    <tr>\n",
       "      <th>2</th>\n",
       "      <td>1</td>\n",
       "      <td>22035</td>\n",
       "      <td>Organic Whole String Cheese</td>\n",
       "    </tr>\n",
       "    <tr>\n",
       "      <th>3</th>\n",
       "      <td>1</td>\n",
       "      <td>49683</td>\n",
       "      <td>Cucumber Kirby</td>\n",
       "    </tr>\n",
       "    <tr>\n",
       "      <th>4</th>\n",
       "      <td>1</td>\n",
       "      <td>13176</td>\n",
       "      <td>Bag of Organic Bananas</td>\n",
       "    </tr>\n",
       "  </tbody>\n",
       "</table>\n",
       "</div>"
      ],
      "text/plain": [
       "   order_id  product_id                 product_name\n",
       "0         1       49302             Bulgarian Yogurt\n",
       "1         1       47209         Organic Hass Avocado\n",
       "2         1       22035  Organic Whole String Cheese\n",
       "3         1       49683               Cucumber Kirby\n",
       "4         1       13176       Bag of Organic Bananas"
      ]
     },
     "execution_count": 8,
     "metadata": {},
     "output_type": "execute_result"
    }
   ],
   "source": [
    "order_products_df.head()"
   ]
  },
  {
   "cell_type": "markdown",
   "metadata": {},
   "source": [
    "#### Aggregate orders"
   ]
  },
  {
   "cell_type": "code",
   "execution_count": 9,
   "metadata": {},
   "outputs": [
    {
     "data": {
      "text/html": [
       "<div>\n",
       "<style scoped>\n",
       "    .dataframe tbody tr th:only-of-type {\n",
       "        vertical-align: middle;\n",
       "    }\n",
       "\n",
       "    .dataframe tbody tr th {\n",
       "        vertical-align: top;\n",
       "    }\n",
       "\n",
       "    .dataframe thead th {\n",
       "        text-align: right;\n",
       "    }\n",
       "</style>\n",
       "<table border=\"1\" class=\"dataframe\">\n",
       "  <thead>\n",
       "    <tr style=\"text-align: right;\">\n",
       "      <th></th>\n",
       "      <th>order_id</th>\n",
       "      <th>product_name</th>\n",
       "    </tr>\n",
       "  </thead>\n",
       "  <tbody>\n",
       "    <tr>\n",
       "      <th>0</th>\n",
       "      <td>1</td>\n",
       "      <td>Bulgarian Yogurt, Organic Hass Avocado, Organi...</td>\n",
       "    </tr>\n",
       "    <tr>\n",
       "      <th>1</th>\n",
       "      <td>2</td>\n",
       "      <td>Organic Egg Whites, Michigan Organic Kale, Cla...</td>\n",
       "    </tr>\n",
       "    <tr>\n",
       "      <th>2</th>\n",
       "      <td>3</td>\n",
       "      <td>Organic Baby Spinach, Total 2% with Strawberry...</td>\n",
       "    </tr>\n",
       "    <tr>\n",
       "      <th>3</th>\n",
       "      <td>4</td>\n",
       "      <td>Plain Pre-Sliced Bagels, Kellogg's Nutri-Grain...</td>\n",
       "    </tr>\n",
       "    <tr>\n",
       "      <th>4</th>\n",
       "      <td>5</td>\n",
       "      <td>Artichokes, Dairy Milk Fruit &amp; Nut Chocolate B...</td>\n",
       "    </tr>\n",
       "  </tbody>\n",
       "</table>\n",
       "</div>"
      ],
      "text/plain": [
       "   order_id                                       product_name\n",
       "0         1  Bulgarian Yogurt, Organic Hass Avocado, Organi...\n",
       "1         2  Organic Egg Whites, Michigan Organic Kale, Cla...\n",
       "2         3  Organic Baby Spinach, Total 2% with Strawberry...\n",
       "3         4  Plain Pre-Sliced Bagels, Kellogg's Nutri-Grain...\n",
       "4         5  Artichokes, Dairy Milk Fruit & Nut Chocolate B..."
      ]
     },
     "execution_count": 9,
     "metadata": {},
     "output_type": "execute_result"
    }
   ],
   "source": [
    "order_products_df = order_products_df.groupby(\"order_id\")['product_name'].agg(lambda x: ', '.join(x)).reset_index()\n",
    "order_products_df.head()"
   ]
  },
  {
   "cell_type": "code",
   "execution_count": 10,
   "metadata": {},
   "outputs": [
    {
     "data": {
      "text/plain": [
       "0    [Bulgarian Yogurt, Organic Hass Avocado, Organ...\n",
       "1    [Organic Egg Whites, Michigan Organic Kale, Cl...\n",
       "2    [Organic Baby Spinach, Total 2% with Strawberr...\n",
       "3    [Plain Pre-Sliced Bagels, Kellogg's Nutri-Grai...\n",
       "4    [Artichokes, Dairy Milk Fruit & Nut Chocolate ...\n",
       "Name: product_name, dtype: object"
      ]
     },
     "execution_count": 10,
     "metadata": {},
     "output_type": "execute_result"
    }
   ],
   "source": [
    "transactions = order_products_df['product_name'].str.split(', ')\n",
    "transactions.head()"
   ]
  },
  {
   "cell_type": "code",
   "execution_count": 11,
   "metadata": {},
   "outputs": [
    {
     "name": "stdout",
     "output_type": "stream",
     "text": [
      "Unique items --> 16802\n"
     ]
    }
   ],
   "source": [
    "unique_items = set(item for transaction in transactions for item in transaction)\n",
    "print(\"Unique items -->\", len(unique_items))"
   ]
  },
  {
   "cell_type": "code",
   "execution_count": 12,
   "metadata": {},
   "outputs": [],
   "source": [
    "def get_support(itemset, transactions):\n",
    "    count = transactions.apply(lambda transaction: itemset.issubset(transaction)).sum()\n",
    "    return count / len(transactions)\n",
    "\n",
    "def get_confidence(itemset, antecedent, transactions):\n",
    "    support_antecedent = get_support(antecedent, transactions)\n",
    "    confidence = itemset[\"support\"] / support_antecedent\n",
    "    return confidence, support_antecedent"
   ]
  },
  {
   "cell_type": "markdown",
   "metadata": {},
   "source": [
    "#### Initialize support and confidence thresholds"
   ]
  },
  {
   "cell_type": "code",
   "execution_count": 13,
   "metadata": {},
   "outputs": [],
   "source": [
    "min_support = 0.005\n",
    "min_confidence = 0.005"
   ]
  },
  {
   "cell_type": "markdown",
   "metadata": {},
   "source": [
    "# Frequent Itemsets"
   ]
  },
  {
   "cell_type": "code",
   "execution_count": 14,
   "metadata": {},
   "outputs": [],
   "source": [
    "def frequent_items(unique_items, k=1):\n",
    "    frequent_itemsets = []\n",
    "    while unique_items:\n",
    "        print(f\"Unique items for k={k} --> \", len(unique_items))\n",
    "        for item_pair in combinations(unique_items, k):\n",
    "            support = get_support(set(item_pair), transactions)\n",
    "            if support >= min_support:\n",
    "                frequent_itemsets.append({\"itemset\": item_pair, \"support\": support, \"k\": k})\n",
    "        \n",
    "        unique_items = set()\n",
    "        for item_set in frequent_itemsets:\n",
    "            if item_set[\"k\"] == k:\n",
    "                for item in item_set[\"itemset\"]:\n",
    "                    unique_items.add(item)\n",
    "        \n",
    "        k += 1\n",
    "    return frequent_itemsets"
   ]
  },
  {
   "cell_type": "code",
   "execution_count": 15,
   "metadata": {},
   "outputs": [
    {
     "name": "stdout",
     "output_type": "stream",
     "text": [
      "Unique items for k=1 -->  16802\n",
      "Unique items for k=2 -->  266\n",
      "Unique items for k=3 -->  48\n",
      "Unique items for k=4 -->  6\n"
     ]
    },
    {
     "data": {
      "text/html": [
       "<div>\n",
       "<style scoped>\n",
       "    .dataframe tbody tr th:only-of-type {\n",
       "        vertical-align: middle;\n",
       "    }\n",
       "\n",
       "    .dataframe tbody tr th {\n",
       "        vertical-align: top;\n",
       "    }\n",
       "\n",
       "    .dataframe thead th {\n",
       "        text-align: right;\n",
       "    }\n",
       "</style>\n",
       "<table border=\"1\" class=\"dataframe\">\n",
       "  <thead>\n",
       "    <tr style=\"text-align: right;\">\n",
       "      <th></th>\n",
       "      <th>itemset</th>\n",
       "      <th>support</th>\n",
       "      <th>k</th>\n",
       "    </tr>\n",
       "  </thead>\n",
       "  <tbody>\n",
       "    <tr>\n",
       "      <th>0</th>\n",
       "      <td>(Organic Gala Apples,)</td>\n",
       "      <td>0.022827</td>\n",
       "      <td>1</td>\n",
       "    </tr>\n",
       "    <tr>\n",
       "      <th>1</th>\n",
       "      <td>(Oven Roasted Turkey Breast,)</td>\n",
       "      <td>0.006726</td>\n",
       "      <td>1</td>\n",
       "    </tr>\n",
       "    <tr>\n",
       "      <th>2</th>\n",
       "      <td>(Small Hass Avocado,)</td>\n",
       "      <td>0.015693</td>\n",
       "      <td>1</td>\n",
       "    </tr>\n",
       "    <tr>\n",
       "      <th>3</th>\n",
       "      <td>(Diced Tomatoes,)</td>\n",
       "      <td>0.005299</td>\n",
       "      <td>1</td>\n",
       "    </tr>\n",
       "    <tr>\n",
       "      <th>4</th>\n",
       "      <td>(Broccoli Crown,)</td>\n",
       "      <td>0.011923</td>\n",
       "      <td>1</td>\n",
       "    </tr>\n",
       "  </tbody>\n",
       "</table>\n",
       "</div>"
      ],
      "text/plain": [
       "                         itemset   support  k\n",
       "0         (Organic Gala Apples,)  0.022827  1\n",
       "1  (Oven Roasted Turkey Breast,)  0.006726  1\n",
       "2          (Small Hass Avocado,)  0.015693  1\n",
       "3              (Diced Tomatoes,)  0.005299  1\n",
       "4              (Broccoli Crown,)  0.011923  1"
      ]
     },
     "execution_count": 15,
     "metadata": {},
     "output_type": "execute_result"
    }
   ],
   "source": [
    "frequent_itemsets = frequent_items(unique_items, k=1)\n",
    "frequent_itemsets_df = pd.DataFrame(frequent_itemsets)\n",
    "frequent_itemsets_df.head()"
   ]
  },
  {
   "cell_type": "markdown",
   "metadata": {},
   "source": [
    "# Association Rules"
   ]
  },
  {
   "cell_type": "code",
   "execution_count": 16,
   "metadata": {},
   "outputs": [],
   "source": [
    "def generate_association_rules(frequent_itemsets, min_confidence, transactions):\n",
    "    rules = []\n",
    "    for itemset in frequent_itemsets:\n",
    "        for size in range(1, len(itemset[\"itemset\"])):\n",
    "            for subset in combinations(itemset[\"itemset\"], size):\n",
    "                antecedent = set(subset)\n",
    "                consequent = set(itemset[\"itemset\"]) - antecedent\n",
    "                confidence, support_antecedent = get_confidence(itemset, antecedent, transactions)\n",
    "                if confidence >= min_confidence:\n",
    "                    rules.append({\"antecedent\": antecedent, \"consequent\": consequent, \"support_A\": support_antecedent, \"support_itemset\": itemset[\"support\"], \"confidence\": confidence})\n",
    "    return rules\n"
   ]
  },
  {
   "cell_type": "code",
   "execution_count": 17,
   "metadata": {},
   "outputs": [
    {
     "name": "stdout",
     "output_type": "stream",
     "text": [
      "association Rules --> 178\n"
     ]
    }
   ],
   "source": [
    "rules = generate_association_rules(frequent_itemsets, min_confidence, transactions)\n",
    "print(\"association Rules -->\", len(rules))"
   ]
  },
  {
   "cell_type": "code",
   "execution_count": 19,
   "metadata": {},
   "outputs": [
    {
     "data": {
      "text/html": [
       "<div>\n",
       "<style scoped>\n",
       "    .dataframe tbody tr th:only-of-type {\n",
       "        vertical-align: middle;\n",
       "    }\n",
       "\n",
       "    .dataframe tbody tr th {\n",
       "        vertical-align: top;\n",
       "    }\n",
       "\n",
       "    .dataframe thead th {\n",
       "        text-align: right;\n",
       "    }\n",
       "</style>\n",
       "<table border=\"1\" class=\"dataframe\">\n",
       "  <thead>\n",
       "    <tr style=\"text-align: right;\">\n",
       "      <th></th>\n",
       "      <th>antecedent</th>\n",
       "      <th>consequent</th>\n",
       "      <th>support_A</th>\n",
       "      <th>support_itemset</th>\n",
       "      <th>confidence</th>\n",
       "    </tr>\n",
       "  </thead>\n",
       "  <tbody>\n",
       "    <tr>\n",
       "      <th>0</th>\n",
       "      <td>{Organic Large Extra Fancy Fuji Apple}</td>\n",
       "      <td>{Bag of Organic Bananas}</td>\n",
       "      <td>0.022419</td>\n",
       "      <td>0.006318</td>\n",
       "      <td>0.281818</td>\n",
       "    </tr>\n",
       "    <tr>\n",
       "      <th>1</th>\n",
       "      <td>{Bag of Organic Bananas}</td>\n",
       "      <td>{Organic Large Extra Fancy Fuji Apple}</td>\n",
       "      <td>0.119637</td>\n",
       "      <td>0.006318</td>\n",
       "      <td>0.052811</td>\n",
       "    </tr>\n",
       "    <tr>\n",
       "      <th>2</th>\n",
       "      <td>{Organic Red Radish}</td>\n",
       "      <td>{Bunch}</td>\n",
       "      <td>0.009579</td>\n",
       "      <td>0.009579</td>\n",
       "      <td>1.000000</td>\n",
       "    </tr>\n",
       "    <tr>\n",
       "      <th>3</th>\n",
       "      <td>{Bunch}</td>\n",
       "      <td>{Organic Red Radish}</td>\n",
       "      <td>0.015388</td>\n",
       "      <td>0.009579</td>\n",
       "      <td>0.622517</td>\n",
       "    </tr>\n",
       "    <tr>\n",
       "      <th>4</th>\n",
       "      <td>{Organic Baby Carrots}</td>\n",
       "      <td>{Banana}</td>\n",
       "      <td>0.023438</td>\n",
       "      <td>0.005299</td>\n",
       "      <td>0.226087</td>\n",
       "    </tr>\n",
       "  </tbody>\n",
       "</table>\n",
       "</div>"
      ],
      "text/plain": [
       "                               antecedent  \\\n",
       "0  {Organic Large Extra Fancy Fuji Apple}   \n",
       "1                {Bag of Organic Bananas}   \n",
       "2                    {Organic Red Radish}   \n",
       "3                                 {Bunch}   \n",
       "4                  {Organic Baby Carrots}   \n",
       "\n",
       "                               consequent  support_A  support_itemset  \\\n",
       "0                {Bag of Organic Bananas}   0.022419         0.006318   \n",
       "1  {Organic Large Extra Fancy Fuji Apple}   0.119637         0.006318   \n",
       "2                                 {Bunch}   0.009579         0.009579   \n",
       "3                    {Organic Red Radish}   0.015388         0.009579   \n",
       "4                                {Banana}   0.023438         0.005299   \n",
       "\n",
       "   confidence  \n",
       "0    0.281818  \n",
       "1    0.052811  \n",
       "2    1.000000  \n",
       "3    0.622517  \n",
       "4    0.226087  "
      ]
     },
     "execution_count": 19,
     "metadata": {},
     "output_type": "execute_result"
    }
   ],
   "source": [
    "association_rules_df = pd.DataFrame(rules)\n",
    "association_rules_df.head()"
   ]
  },
  {
   "cell_type": "code",
   "execution_count": null,
   "metadata": {},
   "outputs": [],
   "source": []
  }
 ],
 "metadata": {
  "kernelspec": {
   "display_name": "Python 3 (ipykernel)",
   "language": "python",
   "name": "python3"
  },
  "language_info": {
   "codemirror_mode": {
    "name": "ipython",
    "version": 3
   },
   "file_extension": ".py",
   "mimetype": "text/x-python",
   "name": "python",
   "nbconvert_exporter": "python",
   "pygments_lexer": "ipython3",
   "version": "3.12.0"
  }
 },
 "nbformat": 4,
 "nbformat_minor": 5
}
